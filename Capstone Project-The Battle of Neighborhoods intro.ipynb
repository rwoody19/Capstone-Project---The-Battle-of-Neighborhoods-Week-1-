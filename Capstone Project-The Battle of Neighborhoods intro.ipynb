{
 "cells": [
  {
   "cell_type": "markdown",
   "metadata": {
    "collapsed": true
   },
   "source": [
    "# Capstone Project - The Battle of the Neighborhoods  Week 1"
   ]
  },
  {
   "cell_type": "markdown",
   "metadata": {},
   "source": [
    "#Introduction/Business Problem"
   ]
  },
  {
   "cell_type": "markdown",
   "metadata": {},
   "source": [
    "*Problem Background"
   ]
  },
  {
   "cell_type": "markdown",
   "metadata": {},
   "source": [
    "The most populous city in the United States would be New York City, as it provides business opportunities with a friendly business environment. The city is well known for being the States financial capital and a pinnacle point for banking, retailing, transportation, new media, arts, legal services and so much more. It is multicultural. Not only is it multicultural, but it has also attracted many different players to each market as it is a global hub for businesses and commerce within the United States and other countries around the world.\n",
    "\n",
    "That being said, the market is highly competitive. Any new business venture or expansion needs to be analyzed carefully as the cost of doing business is high due to the city being highly developed. The insights derived from analysis will give good understanding of the business environment which help in strategically targeting the market. This will help in reduction of risk. And the Return on Investment will be reasonable."
   ]
  },
  {
   "cell_type": "markdown",
   "metadata": {},
   "source": [
    "*Problem Description:"
   ]
  },
  {
   "cell_type": "markdown",
   "metadata": {},
   "source": [
    "New York City is famous for its excellent cuisine, within its multicultural array of international cuisines influenced by the history of the city's immigrant.\n",
    "\n",
    "1.Central and Eastern European immigrants - bagels, cheesecake, hot dogs, and delicatessens\n",
    "2.Italian immigrants - New York-style pizza and Italian cuisine\n",
    "3.Jewish and Irish immigrants - pastrami and corned beef\n",
    "4.Chinese and other Asian restaurants - sandwiches, trattorias, diners, and coffeehouses are ubiquitous throughout the city\n",
    "5.mobile food vendors - roughly 4,000 licensed by the city\n",
    "6.Middle Eastern - falafel and kebabs examples of modern New York street food\n",
    "\n",
    "\n",
    "It is very important to strategically plan in order to survive in such a competitive market. Various factors need to be studied in order to decide on the Location such as:\n",
    "\n",
    "1.New York Population\n",
    "2.New York City Demographics\n",
    "3.Are there any Farmers Markets, Wholesale markets etc nearby so that the ingredients can be purchased fresh to maintain quality and cost?\n",
    "4.Are there any venues like Gyms, Entertainmnet zones, Parks etc nearby where floating population is high etc\n",
    "5.Who are the competitors in that location?\n",
    "6.Cuisine served / Menu of the competitors\n",
    "7.Segmentation of the Borough\n",
    "8.Untapped markets\n",
    "9.Saturated markets etc\n"
   ]
  },
  {
   "cell_type": "code",
   "execution_count": null,
   "metadata": {},
   "outputs": [],
   "source": []
  }
 ],
 "metadata": {
  "kernelspec": {
   "display_name": "Python 3.7",
   "language": "python",
   "name": "python3"
  },
  "language_info": {
   "codemirror_mode": {
    "name": "ipython",
    "version": 3
   },
   "file_extension": ".py",
   "mimetype": "text/x-python",
   "name": "python",
   "nbconvert_exporter": "python",
   "pygments_lexer": "ipython3",
   "version": "3.7.10"
  }
 },
 "nbformat": 4,
 "nbformat_minor": 1
}
